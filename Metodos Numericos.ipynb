{
  "nbformat": 4,
  "nbformat_minor": 0,
  "metadata": {
    "colab": {
      "name": "Untitled2.ipynb",
      "provenance": [],
      "collapsed_sections": []
    },
    "kernelspec": {
      "name": "python3",
      "display_name": "Python 3"
    },
    "language_info": {
      "name": "python"
    }
  },
  "cells": [
    {
      "cell_type": "code",
      "execution_count": 3,
      "metadata": {
        "colab": {
          "base_uri": "https://localhost:8080/",
          "height": 300
        },
        "id": "SGKHlpIrZU-y",
        "outputId": "f189086f-7e0d-4453-c9c0-1f8a0073c753"
      },
      "outputs": [
        {
          "output_type": "display_data",
          "data": {
            "text/plain": [
              "<Figure size 432x288 with 1 Axes>"
            ],
            "image/png": "[encoded data removed]"
          },
          "metadata": {
            "needs_background": "light"
          }
        },
        {
          "output_type": "stream",
          "name": "stdout",
          "text": [
            "[1, 20, 1.5707963267948966, 0.7853981633974483, 0.39269908169872414, 0.5890486225480862, 0.6872233929727672, 0.7363107781851077, 0.760854470791278]\n",
            "X: 0.760854470791278\n"
          ]
        }
      ],
      "source": [
        "import numpy as np\n",
        "from matplotlib import pyplot as plt\n",
        "\n",
        "# MÉTODO DE BISECCION\n",
        "\n",
        "def fx(x):\n",
        "    return x-np.cos(x)\n",
        "\n",
        "\n",
        "vectorx = np.arange(50, 60, 1)\n",
        "plt.plot(vectorx, fx(vectorx))\n",
        "plt.grid(\"X\")\n",
        "plt.grid(\"Y\")\n",
        "plt.show()\n",
        "\n",
        "\n",
        "def biseccion(a, b, cota):\n",
        "    error = 1\n",
        "    i = 0\n",
        "    listar = [1, 20]\n",
        "    if fx(a)*fx(b) < 0:\n",
        "        while error > cota:\n",
        "            xr = (a+b)/2\n",
        "            fxr = fx(xr)\n",
        "            fxa = fx(a)\n",
        "            if fxr * fxa < 0:\n",
        "                b = xr\n",
        "            elif fxr * fxa > 0:\n",
        "                a = xr\n",
        "            else:\n",
        "                break\n",
        "            listar.append(xr)\n",
        "            xractual = xr\n",
        "            if(len(listar) >= 2):\n",
        "                xranterior = listar[-2]\n",
        "                error = np.abs((xractual-xranterior)/xractual)\n",
        "            else:\n",
        "                error = 1\n",
        "            i += 1\n",
        "    else:\n",
        "        print(\"No hay solucióón esa region\")\n",
        "    return listar\n",
        "\n",
        "\n",
        "raices = biseccion(0, np.pi, 0.05)\n",
        "print(raices)\n",
        "print(\"X:\", raices[-1])\n"
      ]
    },
    {
      "cell_type": "code",
      "source": [
        "import numpy as np\n",
        "from matplotlib import pyplot as plt\n",
        "\n",
        "# MÉTODO DE NEWTON\n",
        "\n",
        "def funcion(x):\n",
        "    return x-np.cos(x)\n",
        "\n",
        "\n",
        "def funcion2(x):\n",
        "    return 1+np.sin(x)\n",
        "\n",
        "\n",
        "w = np.pi\n",
        "\n",
        "\n",
        "def newton(xi, maxiteraciones, cota):\n",
        "    error = 1\n",
        "    i = 1\n",
        "    while error > cota:\n",
        "        xr = xi - (funcion(xi)/funcion2(xi))\n",
        "        error = np.abs((xr-xi)/xr)\n",
        "        xi = xr\n",
        "        i += 1\n",
        "        print(\"Raiz:\", xr, \" Error:\", error)\n",
        "\n",
        "\n",
        "newton(0, w, 0.05)\n",
        "\n",
        "\n",
        "vectorx = np.arange(1, 1.5, 0.01)\n",
        "\n",
        "plt.plot(vectorx, funcion(vectorx))\n",
        "plt.grid(\"x\")\n",
        "plt.grid(\"y\")\n",
        "plt.show()\n"
      ],
      "metadata": {
        "colab": {
          "base_uri": "https://localhost:8080/",
          "height": 334
        },
        "id": "cBu88OvnZ8Gg",
        "outputId": "ca63a4b9-fac9-470f-be19-195825467caa"
      },
      "execution_count": 4,
      "outputs": [
        {
          "output_type": "stream",
          "name": "stdout",
          "text": [
            "i | xi | fxi |fdxi | xr | error\n",
            "Raiz: 1.0  Error: 1.0\n",
            "Raiz: 0.7503638678402439  Error: 0.33268677085728876\n",
            "Raiz: 0.7391128909113617  Error: 0.015222271275784708\n"
          ]
        },
        {
          "output_type": "display_data",
          "data": {
            "text/plain": [
              "<Figure size 432x288 with 1 Axes>"
            ],
            "image/png": "[encoded data removed]"
          },
          "metadata": {
            "needs_background": "light"
          }
        }
      ]
    },
    {
      "cell_type": "code",
      "source": [
        "import numpy as np\n",
        "import matplotlib.pyplot as plt\n",
        "\n",
        "# MÉTODO DE LA SECANTE\n",
        "def f(x):\n",
        "    return x-np.cos(x)\n",
        "\n",
        "\n",
        "\n",
        "def secante(xinf, xsup, cota, maxiteraciones):\n",
        "    error = 1\n",
        "    i = 1\n",
        "    while error > cota:\n",
        "\n",
        "        xr = xinf - ((f(xinf)*(xinf-xsup))/(f(xinf)-f(xsup)))\n",
        "        error = np.abs((xr-xinf)/xr)\n",
        "        print(\"Iteración:\", i, \" xsup:\", xsup, \"xinf:\",\n",
        "              xinf, \" Raiz:\", xr, \" Error:\", error)\n",
        "        xinf = xsup\n",
        "        xsup = xr\n",
        "\n",
        "        i += 1\n",
        "        if(error <= 0.001):\n",
        "            print(\"La raíz es: \", xr, \" f(raíz): \", f(xr))\n",
        "            print(\"Con un error de: \", error)\n",
        "            plt.plot(xinf, 0, 'o', color=\"g\")\n",
        "            plt.plot(xsup, f(xsup), 'o', color=\"y\")\n",
        "\n",
        "\n",
        "secante(1, 5, 0.001, 10)\n",
        "\n",
        "x = np.linspace(1, 10, 7)\n",
        "plt.plot(x, f(x))\n",
        "plt.grid('on')\n",
        "plt.show()\n"
      ],
      "metadata": {
        "colab": {
          "base_uri": "https://localhost:8080/",
          "height": 420
        },
        "id": "SFIx9zRgbXpJ",
        "outputId": "59f2779b-4589-44e0-f3f6-cdfd59c45de7"
      },
      "execution_count": 7,
      "outputs": [
        {
          "output_type": "stream",
          "name": "stdout",
          "text": [
            "Iteración: 1  xsup: 5 xinf: 1  Raiz: 0.5680182668690053  Error: 0.7605067624182889\n",
            "Iteración: 2  xsup: 0.5680182668690053 xinf: 5  Raiz: 0.8121587279875575  Error: 5.156432022086945\n",
            "Iteración: 3  xsup: 0.8121587279875575 xinf: 0.5680182668690053  Raiz: 0.7361810549478326  Error: 0.22842585658597767\n",
            "Iteración: 4  xsup: 0.7361810549478326 xinf: 0.8121587279875575  Raiz: 0.7390399782244503  Error: 0.09893747553248144\n",
            "Iteración: 5  xsup: 0.7390399782244503 xinf: 0.7361810549478326  Raiz: 0.7390851622149974  Error: 0.003929326978316525\n",
            "Iteración: 6  xsup: 0.7390851622149974 xinf: 0.7390399782244503  Raiz: 0.7390851332148715  Error: 6.109579044664393e-05\n",
            "La raíz es:  0.7390851332148715  f(raíz):  -4.839462164341057e-13\n",
            "Con un error de:  6.109579044664393e-05\n"
          ]
        },
        {
          "output_type": "display_data",
          "data": {
            "text/plain": [
              "<Figure size 432x288 with 1 Axes>"
            ],
            "image/png": "[encoded data removed]"
          },
          "metadata": {
            "needs_background": "light"
          }
        }
      ]
    }
  ]
}